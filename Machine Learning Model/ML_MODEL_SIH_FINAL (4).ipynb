{
  "nbformat": 4,
  "nbformat_minor": 0,
  "metadata": {
    "colab": {
      "provenance": []
    },
    "kernelspec": {
      "name": "python3",
      "display_name": "Python 3"
    },
    "language_info": {
      "name": "python"
    }
  },
  "cells": [
    {
      "cell_type": "code",
      "execution_count": 1,
      "metadata": {
        "id": "FCwo239_Naqq"
      },
      "outputs": [],
      "source": [
        "import pandas as pd\n",
        "from sklearn.model_selection import train_test_split\n",
        "from sklearn.tree import DecisionTreeClassifier\n",
        "from sklearn.metrics import accuracy_score, classification_report\n",
        "from sklearn.impute import SimpleImputer\n",
        "import numpy as np\n",
        "import firebase_admin\n",
        "from firebase_admin import credentials, db"
      ]
    },
    {
      "cell_type": "code",
      "source": [
        "# Initialize Firebase\n",
        "cred = credentials.Certificate(\"/content/Credentials.json\")"
      ],
      "metadata": {
        "id": "fkUUQv25Nfsz"
      },
      "execution_count": 2,
      "outputs": []
    },
    {
      "cell_type": "code",
      "source": [
        "firebase_admin.initialize_app(cred, {\n",
        "    'databaseURL': 'https://team-parth-fe53f-default-rtdb.firebaseio.com/'\n",
        "})"
      ],
      "metadata": {
        "colab": {
          "base_uri": "https://localhost:8080/"
        },
        "id": "s40Sd9VzOL_e",
        "outputId": "bb793f0f-1f71-4071-acbb-d96a669e3440"
      },
      "execution_count": 3,
      "outputs": [
        {
          "output_type": "execute_result",
          "data": {
            "text/plain": [
              "<firebase_admin.App at 0x7ec33d0ee680>"
            ]
          },
          "metadata": {},
          "execution_count": 3
        }
      ]
    },
    {
      "cell_type": "code",
      "source": [
        "ref = db.reference(\"/\")\n",
        "data = ref.get()\n",
        "print(data)"
      ],
      "metadata": {
        "colab": {
          "base_uri": "https://localhost:8080/"
        },
        "id": "Yl8ihByJOSH0",
        "outputId": "fc424217-0aa7-4752-caac-b720d8b939e4"
      },
      "execution_count": 23,
      "outputs": [
        {
          "output_type": "stream",
          "name": "stdout",
          "text": [
            "{'Arts and Humanities': {'options1': 'a', 'options2': 'a', 'options3': 'a', 'options4': 'a', 'options5': 'a', 'options6': 'a'}, 'Engineering Path': {'options': 'a', 'options1': 'b', 'options2': 'a', 'options3': 'c', 'options4': 'a', 'options5': 'a'}, 'Medical Path': {'options1': 'a', 'options2': 'a', 'options3': 'a', 'options4': 'a', 'options5': 'a', 'options6': 'a'}, 'y_pred': {'result_path': 'Engineering', 'value': [3]}}\n"
          ]
        }
      ]
    },
    {
      "cell_type": "code",
      "source": [
        "# Load the dataset\n",
        "df = pd.read_csv(\"career_path_datasetfinal.csv\")"
      ],
      "metadata": {
        "id": "EcJQUDqdOVft"
      },
      "execution_count": 5,
      "outputs": []
    },
    {
      "cell_type": "code",
      "source": [
        "# Extract features and target variable\n",
        "X = df.drop(['Student_ID', 'Preferred_Career_Path'], axis=1)\n",
        "y = df['Preferred_Career_Path']"
      ],
      "metadata": {
        "id": "fxqk9wk1Oaqj"
      },
      "execution_count": 6,
      "outputs": []
    },
    {
      "cell_type": "code",
      "source": [
        "# Split the dataset into training and testing sets\n",
        "X_train, X_test, y_train, y_test = train_test_split(X, y, test_size=0.2, random_state=42)\n"
      ],
      "metadata": {
        "id": "SJGjsuRxOd4X"
      },
      "execution_count": 7,
      "outputs": []
    },
    {
      "cell_type": "code",
      "source": [
        "\n",
        "# Handle missing values using SimpleImputer\n",
        "imputer = SimpleImputer(strategy='mean')\n",
        "\n",
        "# imputer = SimpleImputer(missing_values='NAN', strategy='constant', fill_value=4)\n"
      ],
      "metadata": {
        "id": "VJsmDkdoOhHR"
      },
      "execution_count": 8,
      "outputs": []
    },
    {
      "cell_type": "code",
      "source": [
        "# Fit and transform the imputer on the training data\n",
        "X_train_imputed = imputer.fit_transform(X_train)\n"
      ],
      "metadata": {
        "id": "YvlM4DzLOj2-"
      },
      "execution_count": 9,
      "outputs": []
    },
    {
      "cell_type": "code",
      "source": [
        "# Transform the test data using the same imputer\n",
        "X_test_imputed = imputer.transform(X_test)\n"
      ],
      "metadata": {
        "id": "zB2ZcfXmOmYr"
      },
      "execution_count": 10,
      "outputs": []
    },
    {
      "cell_type": "code",
      "source": [
        "# Initialize the Decision Tree classifier\n",
        "model = DecisionTreeClassifier(random_state=42)\n",
        "\n",
        "\n"
      ],
      "metadata": {
        "id": "6IW0TGCJOo-7"
      },
      "execution_count": 11,
      "outputs": []
    },
    {
      "cell_type": "code",
      "source": [
        "\n",
        "# Train the model on the imputed data\n",
        "model.fit(X_train_imputed, y_train)\n"
      ],
      "metadata": {
        "colab": {
          "base_uri": "https://localhost:8080/",
          "height": 74
        },
        "id": "LHQ1PK-IOrvf",
        "outputId": "bb7385c5-bd3e-4b9f-8568-4499221ad42f"
      },
      "execution_count": 12,
      "outputs": [
        {
          "output_type": "execute_result",
          "data": {
            "text/plain": [
              "DecisionTreeClassifier(random_state=42)"
            ],
            "text/html": [
              "<style>#sk-container-id-1 {color: black;background-color: white;}#sk-container-id-1 pre{padding: 0;}#sk-container-id-1 div.sk-toggleable {background-color: white;}#sk-container-id-1 label.sk-toggleable__label {cursor: pointer;display: block;width: 100%;margin-bottom: 0;padding: 0.3em;box-sizing: border-box;text-align: center;}#sk-container-id-1 label.sk-toggleable__label-arrow:before {content: \"▸\";float: left;margin-right: 0.25em;color: #696969;}#sk-container-id-1 label.sk-toggleable__label-arrow:hover:before {color: black;}#sk-container-id-1 div.sk-estimator:hover label.sk-toggleable__label-arrow:before {color: black;}#sk-container-id-1 div.sk-toggleable__content {max-height: 0;max-width: 0;overflow: hidden;text-align: left;background-color: #f0f8ff;}#sk-container-id-1 div.sk-toggleable__content pre {margin: 0.2em;color: black;border-radius: 0.25em;background-color: #f0f8ff;}#sk-container-id-1 input.sk-toggleable__control:checked~div.sk-toggleable__content {max-height: 200px;max-width: 100%;overflow: auto;}#sk-container-id-1 input.sk-toggleable__control:checked~label.sk-toggleable__label-arrow:before {content: \"▾\";}#sk-container-id-1 div.sk-estimator input.sk-toggleable__control:checked~label.sk-toggleable__label {background-color: #d4ebff;}#sk-container-id-1 div.sk-label input.sk-toggleable__control:checked~label.sk-toggleable__label {background-color: #d4ebff;}#sk-container-id-1 input.sk-hidden--visually {border: 0;clip: rect(1px 1px 1px 1px);clip: rect(1px, 1px, 1px, 1px);height: 1px;margin: -1px;overflow: hidden;padding: 0;position: absolute;width: 1px;}#sk-container-id-1 div.sk-estimator {font-family: monospace;background-color: #f0f8ff;border: 1px dotted black;border-radius: 0.25em;box-sizing: border-box;margin-bottom: 0.5em;}#sk-container-id-1 div.sk-estimator:hover {background-color: #d4ebff;}#sk-container-id-1 div.sk-parallel-item::after {content: \"\";width: 100%;border-bottom: 1px solid gray;flex-grow: 1;}#sk-container-id-1 div.sk-label:hover label.sk-toggleable__label {background-color: #d4ebff;}#sk-container-id-1 div.sk-serial::before {content: \"\";position: absolute;border-left: 1px solid gray;box-sizing: border-box;top: 0;bottom: 0;left: 50%;z-index: 0;}#sk-container-id-1 div.sk-serial {display: flex;flex-direction: column;align-items: center;background-color: white;padding-right: 0.2em;padding-left: 0.2em;position: relative;}#sk-container-id-1 div.sk-item {position: relative;z-index: 1;}#sk-container-id-1 div.sk-parallel {display: flex;align-items: stretch;justify-content: center;background-color: white;position: relative;}#sk-container-id-1 div.sk-item::before, #sk-container-id-1 div.sk-parallel-item::before {content: \"\";position: absolute;border-left: 1px solid gray;box-sizing: border-box;top: 0;bottom: 0;left: 50%;z-index: -1;}#sk-container-id-1 div.sk-parallel-item {display: flex;flex-direction: column;z-index: 1;position: relative;background-color: white;}#sk-container-id-1 div.sk-parallel-item:first-child::after {align-self: flex-end;width: 50%;}#sk-container-id-1 div.sk-parallel-item:last-child::after {align-self: flex-start;width: 50%;}#sk-container-id-1 div.sk-parallel-item:only-child::after {width: 0;}#sk-container-id-1 div.sk-dashed-wrapped {border: 1px dashed gray;margin: 0 0.4em 0.5em 0.4em;box-sizing: border-box;padding-bottom: 0.4em;background-color: white;}#sk-container-id-1 div.sk-label label {font-family: monospace;font-weight: bold;display: inline-block;line-height: 1.2em;}#sk-container-id-1 div.sk-label-container {text-align: center;}#sk-container-id-1 div.sk-container {/* jupyter's `normalize.less` sets `[hidden] { display: none; }` but bootstrap.min.css set `[hidden] { display: none !important; }` so we also need the `!important` here to be able to override the default hidden behavior on the sphinx rendered scikit-learn.org. See: https://github.com/scikit-learn/scikit-learn/issues/21755 */display: inline-block !important;position: relative;}#sk-container-id-1 div.sk-text-repr-fallback {display: none;}</style><div id=\"sk-container-id-1\" class=\"sk-top-container\"><div class=\"sk-text-repr-fallback\"><pre>DecisionTreeClassifier(random_state=42)</pre><b>In a Jupyter environment, please rerun this cell to show the HTML representation or trust the notebook. <br />On GitHub, the HTML representation is unable to render, please try loading this page with nbviewer.org.</b></div><div class=\"sk-container\" hidden><div class=\"sk-item\"><div class=\"sk-estimator sk-toggleable\"><input class=\"sk-toggleable__control sk-hidden--visually\" id=\"sk-estimator-id-1\" type=\"checkbox\" checked><label for=\"sk-estimator-id-1\" class=\"sk-toggleable__label sk-toggleable__label-arrow\">DecisionTreeClassifier</label><div class=\"sk-toggleable__content\"><pre>DecisionTreeClassifier(random_state=42)</pre></div></div></div></div></div>"
            ]
          },
          "metadata": {},
          "execution_count": 12
        }
      ]
    },
    {
      "cell_type": "code",
      "source": [
        "# Predict labels for the test set\n",
        "y_pred = model.predict(X_test_imputed)\n"
      ],
      "metadata": {
        "id": "Wv6MnTyzOvgs"
      },
      "execution_count": 13,
      "outputs": []
    },
    {
      "cell_type": "code",
      "source": [
        "# Evaluate the model\n",
        "accuracy = accuracy_score(y_test, y_pred)\n",
        "classification_rep = classification_report(y_test, y_pred)\n"
      ],
      "metadata": {
        "id": "G3L6ga-cOyNF"
      },
      "execution_count": 14,
      "outputs": []
    },
    {
      "cell_type": "code",
      "source": [
        "print(f\"Accuracy: {accuracy}\")\n",
        "print(\"Classification Report:\")\n",
        "print(classification_rep)\n"
      ],
      "metadata": {
        "colab": {
          "base_uri": "https://localhost:8080/"
        },
        "id": "le9zKLYaO1EB",
        "outputId": "d3027a14-31e3-462d-8013-3e3854a5b531"
      },
      "execution_count": 15,
      "outputs": [
        {
          "output_type": "stream",
          "name": "stdout",
          "text": [
            "Accuracy: 0.915\n",
            "Classification Report:\n",
            "              precision    recall  f1-score   support\n",
            "\n",
            "           1       0.90      0.93      0.91       188\n",
            "           2       0.93      0.89      0.91       182\n",
            "           3       0.92      0.93      0.93       299\n",
            "           4       0.91      0.89      0.90       131\n",
            "\n",
            "    accuracy                           0.92       800\n",
            "   macro avg       0.91      0.91      0.91       800\n",
            "weighted avg       0.92      0.92      0.91       800\n",
            "\n"
          ]
        }
      ]
    },
    {
      "cell_type": "code",
      "source": [
        "firebase_data = ref.get()\n",
        "print(firebase_data)\n",
        "# Retrieve new data from Firebase\n",
        "new_data = ref.child('Arts and Humanities/options1').get()"
      ],
      "metadata": {
        "colab": {
          "base_uri": "https://localhost:8080/"
        },
        "id": "jeNU5WSjO3y2",
        "outputId": "b44910aa-4560-469a-d682-b6719eb9bc52"
      },
      "execution_count": 29,
      "outputs": [
        {
          "output_type": "stream",
          "name": "stdout",
          "text": [
            "{'Arts and Humanities': {'options1': 'a', 'options2': 'a', 'options3': 'a', 'options4': 'a', 'options5': 'a', 'options6': 'a'}, 'Engineering Path': {'options': 'a', 'options1': 'b', 'options2': 'a', 'options3': 'c', 'options4': 'a', 'options5': 'a'}, 'Medical Path': {'options1': 'a', 'options2': 'a', 'options3': 'a', 'options4': 'a', 'options5': 'a', 'options6': 'a'}, 'y_pred': {'result_path': 'Engineering', 'value': [3]}}\n"
          ]
        }
      ]
    },
    {
      "cell_type": "code",
      "source": [
        "print(new_data)"
      ],
      "metadata": {
        "colab": {
          "base_uri": "https://localhost:8080/"
        },
        "id": "HnwyTCoNSvVR",
        "outputId": "a009edb6-0d9f-4bda-a35b-3f661b3d45a7"
      },
      "execution_count": 30,
      "outputs": [
        {
          "output_type": "stream",
          "name": "stdout",
          "text": [
            "a\n"
          ]
        }
      ]
    },
    {
      "cell_type": "code",
      "source": [
        "# Assuming 'data' is a dictionary from Firebase\n",
        "new_df = pd.DataFrame.from_dict(data, orient='index')"
      ],
      "metadata": {
        "id": "dqQWOBanQVGu"
      },
      "execution_count": 26,
      "outputs": []
    },
    {
      "cell_type": "code",
      "source": [],
      "metadata": {
        "id": "XqfXpaHPQXLp"
      },
      "execution_count": null,
      "outputs": []
    },
    {
      "cell_type": "code",
      "source": [
        "# Paths for different options\n",
        "paths = [\n",
        "    'Arts and Humanities/options1', 'Arts and Humanities/options2', 'Arts and Humanities/options3',\n",
        "    'Arts and Humanities/options4', 'Arts and Humanities/options5', 'Arts and Humanities/options6',\n",
        "    'Engineering Path/options', 'Engineering Path/options1', 'Engineering Path/options2',\n",
        "    'Engineering Path/options3', 'Engineering Path/options4', 'Engineering Path/options5',\n",
        "    'Medical Path/options1', 'Medical Path/options2', 'Medical Path/options3', 'Medical Path/options4',\n",
        "    'Medical Path/options5', 'Medical Path/options6',\n",
        "    'Commerce and Business/options1', 'Commerce and Business/options2', 'Commerce and Business/options3',\n",
        "    'Commerce and Business/options4', 'Commerce and Business/options5', 'Commerce and Business/options6'\n",
        "]\n",
        "\n",
        "# Mapping dictionary\n",
        "mapping_dict = {'a': 5, 'b': 6, 'c': 7, 'd': 8}\n",
        "\n",
        "# Retrieve values from Firebase and encode them\n",
        "encoded_values = []\n",
        "for path in paths:\n",
        "    data = ref.child(path).get()\n",
        "    if data:\n",
        "        encoded_values.extend([mapping_dict[val] for val in data])\n",
        "\n",
        "# Convert the encoded values to a 1D array\n",
        "array_1d = np.array(encoded_values).reshape(1, -1)\n",
        "\n",
        "# Print the encoded array\n",
        "print(\"Encoded 1D Array:\", array_1d)"
      ],
      "metadata": {
        "colab": {
          "base_uri": "https://localhost:8080/"
        },
        "id": "5mjCikEOO7Rf",
        "outputId": "4e4a8050-e98d-4113-c236-43eb48fb1ba0"
      },
      "execution_count": 88,
      "outputs": [
        {
          "output_type": "stream",
          "name": "stdout",
          "text": [
            "Encoded 1D Array: [[7 6 6 6 5 8 5 5 5 5 5 5 6 7 8 8 7 5 8 8 8 8 8 8]]\n"
          ]
        }
      ]
    },
    {
      "cell_type": "code",
      "source": [
        "# Make predictions on the new data\n",
        "y_pred = model.predict(array_1d)\n"
      ],
      "metadata": {
        "id": "qfqwuWxfPFJT"
      },
      "execution_count": 89,
      "outputs": []
    },
    {
      "cell_type": "code",
      "source": [
        "# Map the predicted class to the corresponding career path\n",
        "career_paths = {1: \"Medical\", 2: \"Arts and Humanities\", 3: \"Engineering\", 4: \"Commerce\"}"
      ],
      "metadata": {
        "id": "bHuHmVABPHdk"
      },
      "execution_count": 90,
      "outputs": []
    },
    {
      "cell_type": "code",
      "source": [
        "# Display the predicted career paths for each data point\n",
        "for prediction in y_pred:\n",
        "    if prediction == 1:\n",
        "        print(\"Predicted Career Path: Medical\")\n",
        "    elif prediction == 2:\n",
        "        print(\"Predicted Career Path: Arts and Humanities\")\n",
        "    elif prediction == 3:\n",
        "        print(\"Predicted Career Path: Engineering\")\n",
        "    elif prediction == 4:\n",
        "        print(\"Predicted Career Path: Commerce\")\n",
        "    else:\n",
        "        print(\"Invalid result. Please enter a valid result (1, 2, 3, or 4).\")"
      ],
      "metadata": {
        "colab": {
          "base_uri": "https://localhost:8080/"
        },
        "id": "cfy3rMtsPKQt",
        "outputId": "5e3e37e7-9d60-4490-8ad2-03ca8f39acc4"
      },
      "execution_count": 91,
      "outputs": [
        {
          "output_type": "stream",
          "name": "stdout",
          "text": [
            "Predicted Career Path: Medical\n"
          ]
        }
      ]
    },
    {
      "cell_type": "code",
      "source": [
        "print(f\"Accuracy: {accuracy}\")\n",
        "print(\"Classification Report:\")\n",
        "print(classification_rep)"
      ],
      "metadata": {
        "colab": {
          "base_uri": "https://localhost:8080/"
        },
        "id": "pUUOjOJcPNUo",
        "outputId": "928ad0d0-4702-4a39-8682-30637e1c9793"
      },
      "execution_count": 92,
      "outputs": [
        {
          "output_type": "stream",
          "name": "stdout",
          "text": [
            "Accuracy: 0.915\n",
            "Classification Report:\n",
            "              precision    recall  f1-score   support\n",
            "\n",
            "           1       0.90      0.93      0.91       188\n",
            "           2       0.93      0.89      0.91       182\n",
            "           3       0.92      0.93      0.93       299\n",
            "           4       0.91      0.89      0.90       131\n",
            "\n",
            "    accuracy                           0.92       800\n",
            "   macro avg       0.91      0.91      0.91       800\n",
            "weighted avg       0.92      0.92      0.91       800\n",
            "\n"
          ]
        }
      ]
    },
    {
      "cell_type": "code",
      "source": [
        "# Store data in Firebase (replace 'output_data' with your desired Firebase path)\n",
        "output_ref = db.reference('/y_pred')\n",
        "# Example output data (replace this with your actual output)\n",
        "output_data = {'y_pred': career_paths[y_pred[0]], 'metric': accuracy}\n",
        "print(output_data)\n",
        "output_ref.set(output_data)"
      ],
      "metadata": {
        "colab": {
          "base_uri": "https://localhost:8080/"
        },
        "id": "qYoInPEccPFE",
        "outputId": "70a4727d-5232-4374-b80a-994b83d589d3"
      },
      "execution_count": 93,
      "outputs": [
        {
          "output_type": "stream",
          "name": "stdout",
          "text": [
            "{'y_pred': 'Medical', 'metric': 0.915}\n"
          ]
        }
      ]
    },
    {
      "cell_type": "code",
      "source": [
        "# Display the predicted career paths for each data point\n",
        "for prediction in y_pred:\n",
        "    print(f\"Predicted Career Path (Numeric): {prediction}\")\n"
      ],
      "metadata": {
        "colab": {
          "base_uri": "https://localhost:8080/"
        },
        "id": "M2Gdr1bjc_Xx",
        "outputId": "bbe6fc26-66e7-4612-f98d-c2c581a09b7a"
      },
      "execution_count": 94,
      "outputs": [
        {
          "output_type": "stream",
          "name": "stdout",
          "text": [
            "Predicted Career Path (Numeric): 1\n"
          ]
        }
      ]
    },
    {
      "cell_type": "code",
      "source": [
        "# Print the distribution of predicted classes\n",
        "print(\"Predicted Class Distribution:\")\n",
        "print(pd.Series(y_pred).value_counts())\n"
      ],
      "metadata": {
        "colab": {
          "base_uri": "https://localhost:8080/"
        },
        "id": "XMaF8JeTjFju",
        "outputId": "24fec765-992a-48f9-cdcb-190065f1fa3a"
      },
      "execution_count": 95,
      "outputs": [
        {
          "output_type": "stream",
          "name": "stdout",
          "text": [
            "Predicted Class Distribution:\n",
            "1    1\n",
            "dtype: int64\n"
          ]
        }
      ]
    }
  ]
}